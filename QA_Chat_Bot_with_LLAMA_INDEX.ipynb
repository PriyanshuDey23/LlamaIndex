{
  "cells": [
    {
      "cell_type": "code",
      "execution_count": 1,
      "metadata": {
        "colab": {
          "base_uri": "https://localhost:8080/"
        },
        "id": "EaTpeCbl5D4c",
        "outputId": "e5f66a31-facd-4f84-917a-16cef6616400"
      },
      "outputs": [
        {
          "output_type": "stream",
          "name": "stdout",
          "text": [
            "Requirement already satisfied: llama-index==0.9.39 in /usr/local/lib/python3.10/dist-packages (0.9.39)\n",
            "Requirement already satisfied: SQLAlchemy>=1.4.49 in /usr/local/lib/python3.10/dist-packages (from SQLAlchemy[asyncio]>=1.4.49->llama-index==0.9.39) (2.0.35)\n",
            "Requirement already satisfied: aiohttp<4.0.0,>=3.8.6 in /usr/local/lib/python3.10/dist-packages (from llama-index==0.9.39) (3.10.10)\n",
            "Requirement already satisfied: dataclasses-json in /usr/local/lib/python3.10/dist-packages (from llama-index==0.9.39) (0.6.7)\n",
            "Requirement already satisfied: deprecated>=1.2.9.3 in /usr/local/lib/python3.10/dist-packages (from llama-index==0.9.39) (1.2.14)\n",
            "Requirement already satisfied: fsspec>=2023.5.0 in /usr/local/lib/python3.10/dist-packages (from llama-index==0.9.39) (2024.10.0)\n",
            "Requirement already satisfied: httpx in /usr/local/lib/python3.10/dist-packages (from llama-index==0.9.39) (0.27.2)\n",
            "Requirement already satisfied: nest-asyncio<2.0.0,>=1.5.8 in /usr/local/lib/python3.10/dist-packages (from llama-index==0.9.39) (1.6.0)\n",
            "Requirement already satisfied: networkx>=3.0 in /usr/local/lib/python3.10/dist-packages (from llama-index==0.9.39) (3.4.2)\n",
            "Requirement already satisfied: nltk<4.0.0,>=3.8.1 in /usr/local/lib/python3.10/dist-packages (from llama-index==0.9.39) (3.8.1)\n",
            "Requirement already satisfied: numpy in /usr/local/lib/python3.10/dist-packages (from llama-index==0.9.39) (1.26.4)\n",
            "Requirement already satisfied: openai>=1.1.0 in /usr/local/lib/python3.10/dist-packages (from llama-index==0.9.39) (1.52.2)\n",
            "Requirement already satisfied: pandas in /usr/local/lib/python3.10/dist-packages (from llama-index==0.9.39) (2.2.2)\n",
            "Requirement already satisfied: requests>=2.31.0 in /usr/local/lib/python3.10/dist-packages (from llama-index==0.9.39) (2.32.3)\n",
            "Requirement already satisfied: tenacity<9.0.0,>=8.2.0 in /usr/local/lib/python3.10/dist-packages (from llama-index==0.9.39) (8.5.0)\n",
            "Requirement already satisfied: tiktoken>=0.3.3 in /usr/local/lib/python3.10/dist-packages (from llama-index==0.9.39) (0.8.0)\n",
            "Requirement already satisfied: typing-extensions>=4.5.0 in /usr/local/lib/python3.10/dist-packages (from llama-index==0.9.39) (4.12.2)\n",
            "Requirement already satisfied: typing-inspect>=0.8.0 in /usr/local/lib/python3.10/dist-packages (from llama-index==0.9.39) (0.9.0)\n",
            "Requirement already satisfied: aiohappyeyeballs>=2.3.0 in /usr/local/lib/python3.10/dist-packages (from aiohttp<4.0.0,>=3.8.6->llama-index==0.9.39) (2.4.3)\n",
            "Requirement already satisfied: aiosignal>=1.1.2 in /usr/local/lib/python3.10/dist-packages (from aiohttp<4.0.0,>=3.8.6->llama-index==0.9.39) (1.3.1)\n",
            "Requirement already satisfied: attrs>=17.3.0 in /usr/local/lib/python3.10/dist-packages (from aiohttp<4.0.0,>=3.8.6->llama-index==0.9.39) (24.2.0)\n",
            "Requirement already satisfied: frozenlist>=1.1.1 in /usr/local/lib/python3.10/dist-packages (from aiohttp<4.0.0,>=3.8.6->llama-index==0.9.39) (1.5.0)\n",
            "Requirement already satisfied: multidict<7.0,>=4.5 in /usr/local/lib/python3.10/dist-packages (from aiohttp<4.0.0,>=3.8.6->llama-index==0.9.39) (6.1.0)\n",
            "Requirement already satisfied: yarl<2.0,>=1.12.0 in /usr/local/lib/python3.10/dist-packages (from aiohttp<4.0.0,>=3.8.6->llama-index==0.9.39) (1.17.0)\n",
            "Requirement already satisfied: async-timeout<5.0,>=4.0 in /usr/local/lib/python3.10/dist-packages (from aiohttp<4.0.0,>=3.8.6->llama-index==0.9.39) (4.0.3)\n",
            "Requirement already satisfied: wrapt<2,>=1.10 in /usr/local/lib/python3.10/dist-packages (from deprecated>=1.2.9.3->llama-index==0.9.39) (1.16.0)\n",
            "Requirement already satisfied: click in /usr/local/lib/python3.10/dist-packages (from nltk<4.0.0,>=3.8.1->llama-index==0.9.39) (8.1.7)\n",
            "Requirement already satisfied: joblib in /usr/local/lib/python3.10/dist-packages (from nltk<4.0.0,>=3.8.1->llama-index==0.9.39) (1.4.2)\n",
            "Requirement already satisfied: regex>=2021.8.3 in /usr/local/lib/python3.10/dist-packages (from nltk<4.0.0,>=3.8.1->llama-index==0.9.39) (2024.9.11)\n",
            "Requirement already satisfied: tqdm in /usr/local/lib/python3.10/dist-packages (from nltk<4.0.0,>=3.8.1->llama-index==0.9.39) (4.66.6)\n",
            "Requirement already satisfied: anyio<5,>=3.5.0 in /usr/local/lib/python3.10/dist-packages (from openai>=1.1.0->llama-index==0.9.39) (3.7.1)\n",
            "Requirement already satisfied: distro<2,>=1.7.0 in /usr/local/lib/python3.10/dist-packages (from openai>=1.1.0->llama-index==0.9.39) (1.9.0)\n",
            "Requirement already satisfied: jiter<1,>=0.4.0 in /usr/local/lib/python3.10/dist-packages (from openai>=1.1.0->llama-index==0.9.39) (0.6.1)\n",
            "Requirement already satisfied: pydantic<3,>=1.9.0 in /usr/local/lib/python3.10/dist-packages (from openai>=1.1.0->llama-index==0.9.39) (2.9.2)\n",
            "Requirement already satisfied: sniffio in /usr/local/lib/python3.10/dist-packages (from openai>=1.1.0->llama-index==0.9.39) (1.3.1)\n",
            "Requirement already satisfied: certifi in /usr/local/lib/python3.10/dist-packages (from httpx->llama-index==0.9.39) (2024.8.30)\n",
            "Requirement already satisfied: httpcore==1.* in /usr/local/lib/python3.10/dist-packages (from httpx->llama-index==0.9.39) (1.0.6)\n",
            "Requirement already satisfied: idna in /usr/local/lib/python3.10/dist-packages (from httpx->llama-index==0.9.39) (3.10)\n",
            "Requirement already satisfied: h11<0.15,>=0.13 in /usr/local/lib/python3.10/dist-packages (from httpcore==1.*->httpx->llama-index==0.9.39) (0.14.0)\n",
            "Requirement already satisfied: charset-normalizer<4,>=2 in /usr/local/lib/python3.10/dist-packages (from requests>=2.31.0->llama-index==0.9.39) (3.4.0)\n",
            "Requirement already satisfied: urllib3<3,>=1.21.1 in /usr/local/lib/python3.10/dist-packages (from requests>=2.31.0->llama-index==0.9.39) (2.2.3)\n",
            "Requirement already satisfied: greenlet!=0.4.17 in /usr/local/lib/python3.10/dist-packages (from SQLAlchemy>=1.4.49->SQLAlchemy[asyncio]>=1.4.49->llama-index==0.9.39) (3.1.1)\n",
            "Requirement already satisfied: mypy-extensions>=0.3.0 in /usr/local/lib/python3.10/dist-packages (from typing-inspect>=0.8.0->llama-index==0.9.39) (1.0.0)\n",
            "Requirement already satisfied: marshmallow<4.0.0,>=3.18.0 in /usr/local/lib/python3.10/dist-packages (from dataclasses-json->llama-index==0.9.39) (3.23.1)\n",
            "Requirement already satisfied: python-dateutil>=2.8.2 in /usr/local/lib/python3.10/dist-packages (from pandas->llama-index==0.9.39) (2.8.2)\n",
            "Requirement already satisfied: pytz>=2020.1 in /usr/local/lib/python3.10/dist-packages (from pandas->llama-index==0.9.39) (2024.2)\n",
            "Requirement already satisfied: tzdata>=2022.7 in /usr/local/lib/python3.10/dist-packages (from pandas->llama-index==0.9.39) (2024.2)\n",
            "Requirement already satisfied: exceptiongroup in /usr/local/lib/python3.10/dist-packages (from anyio<5,>=3.5.0->openai>=1.1.0->llama-index==0.9.39) (1.2.2)\n",
            "Requirement already satisfied: packaging>=17.0 in /usr/local/lib/python3.10/dist-packages (from marshmallow<4.0.0,>=3.18.0->dataclasses-json->llama-index==0.9.39) (24.1)\n",
            "Requirement already satisfied: annotated-types>=0.6.0 in /usr/local/lib/python3.10/dist-packages (from pydantic<3,>=1.9.0->openai>=1.1.0->llama-index==0.9.39) (0.7.0)\n",
            "Requirement already satisfied: pydantic-core==2.23.4 in /usr/local/lib/python3.10/dist-packages (from pydantic<3,>=1.9.0->openai>=1.1.0->llama-index==0.9.39) (2.23.4)\n",
            "Requirement already satisfied: six>=1.5 in /usr/local/lib/python3.10/dist-packages (from python-dateutil>=2.8.2->pandas->llama-index==0.9.39) (1.16.0)\n",
            "Requirement already satisfied: propcache>=0.2.0 in /usr/local/lib/python3.10/dist-packages (from yarl<2.0,>=1.12.0->aiohttp<4.0.0,>=3.8.6->llama-index==0.9.39) (0.2.0)\n",
            "Requirement already satisfied: pypdf in /usr/local/lib/python3.10/dist-packages (5.1.0)\n",
            "Requirement already satisfied: typing_extensions>=4.0 in /usr/local/lib/python3.10/dist-packages (from pypdf) (4.12.2)\n",
            "Requirement already satisfied: docx2txt in /usr/local/lib/python3.10/dist-packages (0.8)\n",
            "Requirement already satisfied: transformers in /usr/local/lib/python3.10/dist-packages (4.44.2)\n",
            "Requirement already satisfied: filelock in /usr/local/lib/python3.10/dist-packages (from transformers) (3.16.1)\n",
            "Requirement already satisfied: huggingface-hub<1.0,>=0.23.2 in /usr/local/lib/python3.10/dist-packages (from transformers) (0.24.7)\n",
            "Requirement already satisfied: numpy>=1.17 in /usr/local/lib/python3.10/dist-packages (from transformers) (1.26.4)\n",
            "Requirement already satisfied: packaging>=20.0 in /usr/local/lib/python3.10/dist-packages (from transformers) (24.1)\n",
            "Requirement already satisfied: pyyaml>=5.1 in /usr/local/lib/python3.10/dist-packages (from transformers) (6.0.2)\n",
            "Requirement already satisfied: regex!=2019.12.17 in /usr/local/lib/python3.10/dist-packages (from transformers) (2024.9.11)\n",
            "Requirement already satisfied: requests in /usr/local/lib/python3.10/dist-packages (from transformers) (2.32.3)\n",
            "Requirement already satisfied: safetensors>=0.4.1 in /usr/local/lib/python3.10/dist-packages (from transformers) (0.4.5)\n",
            "Requirement already satisfied: tokenizers<0.20,>=0.19 in /usr/local/lib/python3.10/dist-packages (from transformers) (0.19.1)\n",
            "Requirement already satisfied: tqdm>=4.27 in /usr/local/lib/python3.10/dist-packages (from transformers) (4.66.6)\n",
            "Requirement already satisfied: fsspec>=2023.5.0 in /usr/local/lib/python3.10/dist-packages (from huggingface-hub<1.0,>=0.23.2->transformers) (2024.10.0)\n",
            "Requirement already satisfied: typing-extensions>=3.7.4.3 in /usr/local/lib/python3.10/dist-packages (from huggingface-hub<1.0,>=0.23.2->transformers) (4.12.2)\n",
            "Requirement already satisfied: charset-normalizer<4,>=2 in /usr/local/lib/python3.10/dist-packages (from requests->transformers) (3.4.0)\n",
            "Requirement already satisfied: idna<4,>=2.5 in /usr/local/lib/python3.10/dist-packages (from requests->transformers) (3.10)\n",
            "Requirement already satisfied: urllib3<3,>=1.21.1 in /usr/local/lib/python3.10/dist-packages (from requests->transformers) (2.2.3)\n",
            "Requirement already satisfied: certifi>=2017.4.17 in /usr/local/lib/python3.10/dist-packages (from requests->transformers) (2024.8.30)\n"
          ]
        }
      ],
      "source": [
        "!pip install llama-index==0.9.39\n",
        "!pip install pypdf\n",
        "!pip install docx2txt\n",
        "!pip install transformers"
      ]
    },
    {
      "cell_type": "code",
      "execution_count": 2,
      "metadata": {
        "colab": {
          "base_uri": "https://localhost:8080/"
        },
        "id": "a4CFaWyz9mgx",
        "outputId": "43bafad0-fc49-414b-c320-e2bcd8ab1f5b"
      },
      "outputs": [
        {
          "output_type": "stream",
          "name": "stdout",
          "text": [
            "Requirement already satisfied: google-generativeai in /usr/local/lib/python3.10/dist-packages (0.8.3)\n",
            "Requirement already satisfied: google-ai-generativelanguage==0.6.10 in /usr/local/lib/python3.10/dist-packages (from google-generativeai) (0.6.10)\n",
            "Requirement already satisfied: google-api-core in /usr/local/lib/python3.10/dist-packages (from google-generativeai) (2.19.2)\n",
            "Requirement already satisfied: google-api-python-client in /usr/local/lib/python3.10/dist-packages (from google-generativeai) (2.137.0)\n",
            "Requirement already satisfied: google-auth>=2.15.0 in /usr/local/lib/python3.10/dist-packages (from google-generativeai) (2.27.0)\n",
            "Requirement already satisfied: protobuf in /usr/local/lib/python3.10/dist-packages (from google-generativeai) (3.20.3)\n",
            "Requirement already satisfied: pydantic in /usr/local/lib/python3.10/dist-packages (from google-generativeai) (2.9.2)\n",
            "Requirement already satisfied: tqdm in /usr/local/lib/python3.10/dist-packages (from google-generativeai) (4.66.6)\n",
            "Requirement already satisfied: typing-extensions in /usr/local/lib/python3.10/dist-packages (from google-generativeai) (4.12.2)\n",
            "Requirement already satisfied: proto-plus<2.0.0dev,>=1.22.3 in /usr/local/lib/python3.10/dist-packages (from google-ai-generativelanguage==0.6.10->google-generativeai) (1.25.0)\n",
            "Requirement already satisfied: googleapis-common-protos<2.0.dev0,>=1.56.2 in /usr/local/lib/python3.10/dist-packages (from google-api-core->google-generativeai) (1.65.0)\n",
            "Requirement already satisfied: requests<3.0.0.dev0,>=2.18.0 in /usr/local/lib/python3.10/dist-packages (from google-api-core->google-generativeai) (2.32.3)\n",
            "Requirement already satisfied: cachetools<6.0,>=2.0.0 in /usr/local/lib/python3.10/dist-packages (from google-auth>=2.15.0->google-generativeai) (5.5.0)\n",
            "Requirement already satisfied: pyasn1-modules>=0.2.1 in /usr/local/lib/python3.10/dist-packages (from google-auth>=2.15.0->google-generativeai) (0.4.1)\n",
            "Requirement already satisfied: rsa<5,>=3.1.4 in /usr/local/lib/python3.10/dist-packages (from google-auth>=2.15.0->google-generativeai) (4.9)\n",
            "Requirement already satisfied: httplib2<1.dev0,>=0.19.0 in /usr/local/lib/python3.10/dist-packages (from google-api-python-client->google-generativeai) (0.22.0)\n",
            "Requirement already satisfied: google-auth-httplib2<1.0.0,>=0.2.0 in /usr/local/lib/python3.10/dist-packages (from google-api-python-client->google-generativeai) (0.2.0)\n",
            "Requirement already satisfied: uritemplate<5,>=3.0.1 in /usr/local/lib/python3.10/dist-packages (from google-api-python-client->google-generativeai) (4.1.1)\n",
            "Requirement already satisfied: annotated-types>=0.6.0 in /usr/local/lib/python3.10/dist-packages (from pydantic->google-generativeai) (0.7.0)\n",
            "Requirement already satisfied: pydantic-core==2.23.4 in /usr/local/lib/python3.10/dist-packages (from pydantic->google-generativeai) (2.23.4)\n",
            "Requirement already satisfied: grpcio<2.0dev,>=1.33.2 in /usr/local/lib/python3.10/dist-packages (from google-api-core[grpc]!=2.0.*,!=2.1.*,!=2.10.*,!=2.2.*,!=2.3.*,!=2.4.*,!=2.5.*,!=2.6.*,!=2.7.*,!=2.8.*,!=2.9.*,<3.0.0dev,>=1.34.1->google-ai-generativelanguage==0.6.10->google-generativeai) (1.64.1)\n",
            "Requirement already satisfied: grpcio-status<2.0.dev0,>=1.33.2 in /usr/local/lib/python3.10/dist-packages (from google-api-core[grpc]!=2.0.*,!=2.1.*,!=2.10.*,!=2.2.*,!=2.3.*,!=2.4.*,!=2.5.*,!=2.6.*,!=2.7.*,!=2.8.*,!=2.9.*,<3.0.0dev,>=1.34.1->google-ai-generativelanguage==0.6.10->google-generativeai) (1.48.2)\n",
            "Requirement already satisfied: pyparsing!=3.0.0,!=3.0.1,!=3.0.2,!=3.0.3,<4,>=2.4.2 in /usr/local/lib/python3.10/dist-packages (from httplib2<1.dev0,>=0.19.0->google-api-python-client->google-generativeai) (3.2.0)\n",
            "Requirement already satisfied: pyasn1<0.7.0,>=0.4.6 in /usr/local/lib/python3.10/dist-packages (from pyasn1-modules>=0.2.1->google-auth>=2.15.0->google-generativeai) (0.6.1)\n",
            "Requirement already satisfied: charset-normalizer<4,>=2 in /usr/local/lib/python3.10/dist-packages (from requests<3.0.0.dev0,>=2.18.0->google-api-core->google-generativeai) (3.4.0)\n",
            "Requirement already satisfied: idna<4,>=2.5 in /usr/local/lib/python3.10/dist-packages (from requests<3.0.0.dev0,>=2.18.0->google-api-core->google-generativeai) (3.10)\n",
            "Requirement already satisfied: urllib3<3,>=1.21.1 in /usr/local/lib/python3.10/dist-packages (from requests<3.0.0.dev0,>=2.18.0->google-api-core->google-generativeai) (2.2.3)\n",
            "Requirement already satisfied: certifi>=2017.4.17 in /usr/local/lib/python3.10/dist-packages (from requests<3.0.0.dev0,>=2.18.0->google-api-core->google-generativeai) (2024.8.30)\n"
          ]
        }
      ],
      "source": [
        "!pip install google-generativeai"
      ]
    },
    {
      "cell_type": "code",
      "execution_count": 3,
      "metadata": {
        "id": "MvyvFxhy6fHx"
      },
      "outputs": [],
      "source": [
        "from llama_index import SimpleDirectoryReader, VectorStoreIndex\n",
        "from llama_index.llms.palm import PaLM\n",
        "from llama_index import ServiceContext\n",
        "from llama_index import StorageContext, load_index_from_storage\n",
        "import os"
      ]
    },
    {
      "cell_type": "markdown",
      "metadata": {
        "id": "ObWpCs617PnY"
      },
      "source": [
        "## Load data"
      ]
    },
    {
      "cell_type": "code",
      "execution_count": 4,
      "metadata": {
        "id": "J0l92MYm7L5h",
        "colab": {
          "base_uri": "https://localhost:8080/"
        },
        "outputId": "2ea279ba-b6f4-45bb-874b-01e77edcd8b8"
      },
      "outputs": [
        {
          "output_type": "stream",
          "name": "stdout",
          "text": [
            "mkdir: cannot create directory ‘data’: File exists\n"
          ]
        }
      ],
      "source": [
        "!mkdir data"
      ]
    },
    {
      "cell_type": "code",
      "execution_count": 5,
      "metadata": {
        "id": "KQqxtdRa7UXx"
      },
      "outputs": [],
      "source": [
        "documents = SimpleDirectoryReader(\"data\").load_data()"
      ]
    },
    {
      "cell_type": "code",
      "execution_count": 6,
      "metadata": {
        "colab": {
          "base_uri": "https://localhost:8080/"
        },
        "id": "xbYDQVTF9Hsr",
        "outputId": "eba9640c-ae06-4ef9-b80e-74339320b47e"
      },
      "outputs": [
        {
          "output_type": "execute_result",
          "data": {
            "text/plain": [
              "[Document(id_='5681431b-2d0a-4304-a7e4-c7160b1de261', embedding=None, metadata={'page_label': '1', 'file_name': 'transformer.pdf', 'file_path': 'data/transformer.pdf', 'file_type': 'application/pdf', 'file_size': 779655, 'creation_date': '2024-11-07', 'last_modified_date': '2024-11-07', 'last_accessed_date': '2024-11-07'}, excluded_embed_metadata_keys=['file_name', 'file_type', 'file_size', 'creation_date', 'last_modified_date', 'last_accessed_date'], excluded_llm_metadata_keys=['file_name', 'file_type', 'file_size', 'creation_date', 'last_modified_date', 'last_accessed_date'], relationships={}, text=\"Transformer  \\nelectrical transformer is a static electrical machine which transforms electrical power from one circuit to \\nanother circuit, without changing the frequency. Transformer can increase or decrease the voltage with \\ncorresponding decrease or increase in current. \\nWorking principle of transformer \\n \\n The basic principle behind working of a transformer is the phenomenon of mutual induction between two \\nwindings linked by common magnetic flux. The figure at right shows the simplest form of a transformer. \\nBasically a transformer consists of two inductive coils; primary winding and secondary winding. The coils are \\nelectrically separated but magnetically linked to each other. When, primary winding is connected to a source of \\nalternating voltage, alternating magnetic flux is produced around the winding. The core provides magnetic path \\nfor the flux, to get linked with the secondary winding. Most of the flux gets linked with the secondary winding \\nwhich is called as 'useful flux' or main 'flux', and the flux which does not get linked with secondary winding is \\ncalled as 'leakage flux'.  As the flux produced is alternating (the direction of it is continuously changing), EMF \\ngets induced in the secondary winding according to Faraday's law of electromagnetic induction. This emf is \\ncalled 'mutually induced emf', and the frequency of mutually induced emf is same as that of supplied emf. If the \\nsecondary winding is closed circuit, then mutually induced current flows through it, and hence the electrical \\nenergy is transferred from one circuit (primary) to another circuit (secondary). \\n \\nBasic construction of transformer \\nBasically a transformer consists of two inductive windings and a laminated steel core. The coils are insulated \\nfrom each other as well as from the steel core. A transformer may also consist of a container for winding and \\ncore assembly (called as tank), suitable bushings to take our the terminals, oil conservator to provide oil in the \\ntransformer tank for cooling purposes etc. The figure at left illustrates the basic construction of a transformer. \\n In all types of transformers, core is constructed by assembling (stacking) laminated sheets of steel, with \\nminimum air-gap between them (to achieve continuous magnetic path). The steel used is having high silicon \\ncontent and sometimes heat treated, to provide high permeability and low hysteresis loss. Laminated sheets of \\nsteel are used to reduce eddy current loss. The sheets are cut in the shape as E,I and L. To avoid high reluctance \\n\", start_char_idx=None, end_char_idx=None, text_template='{metadata_str}\\n\\n{content}', metadata_template='{key}: {value}', metadata_seperator='\\n'),\n",
              " Document(id_='cca2bed1-4c40-4b34-b70f-4bc6c998ed0e', embedding=None, metadata={'page_label': '2', 'file_name': 'transformer.pdf', 'file_path': 'data/transformer.pdf', 'file_type': 'application/pdf', 'file_size': 779655, 'creation_date': '2024-11-07', 'last_modified_date': '2024-11-07', 'last_accessed_date': '2024-11-07'}, excluded_embed_metadata_keys=['file_name', 'file_type', 'file_size', 'creation_date', 'last_modified_date', 'last_accessed_date'], excluded_llm_metadata_keys=['file_name', 'file_type', 'file_size', 'creation_date', 'last_modified_date', 'last_accessed_date'], relationships={}, text='at joints, laminations are stacked by alternating the sides of joint. That is, if joints of first sheet assembly are at \\nfront face, the joints of following assemble are kept at back face. \\n \\n \\nTypes of transformers \\nTransformers can be classified on different basis, like types of construction, types of cooling etc. \\n \\n(A) On the basis of construction, transformers can be classified into two types as;  \\n(i) Core type transformer and (ii) Shell type transformer, which are described below. \\n \\n(i) Core type transformer \\nIn core type transformer, windings are cylindrical former wound, mounted on  the core limbs as shown in the \\nfigure above. The cylindrical coils have different layers and each layer is insulated from each other. Materials \\nlike paper, cloth or mica can be used for insulation. Low voltage windings are placed nearer to the core, as they \\nare easier to insulate. \\n', start_char_idx=None, end_char_idx=None, text_template='{metadata_str}\\n\\n{content}', metadata_template='{key}: {value}', metadata_seperator='\\n'),\n",
              " Document(id_='6f72ef24-5b32-4eec-9394-736db98da7e0', embedding=None, metadata={'page_label': '3', 'file_name': 'transformer.pdf', 'file_path': 'data/transformer.pdf', 'file_type': 'application/pdf', 'file_size': 779655, 'creation_date': '2024-11-07', 'last_modified_date': '2024-11-07', 'last_accessed_date': '2024-11-07'}, excluded_embed_metadata_keys=['file_name', 'file_type', 'file_size', 'creation_date', 'last_modified_date', 'last_accessed_date'], excluded_llm_metadata_keys=['file_name', 'file_type', 'file_size', 'creation_date', 'last_modified_date', 'last_accessed_date'], relationships={}, text=\"(ii) Shell type transformer \\nThe coils are former wound and mounted in layers stacked with insulation between them. A shell type \\ntransformer may have simple rectangular form (as shown in above fig), or  it may have a distributed form. \\n \\n(B) On the basis of their purpose \\n1. Step up transformer: Voltage increases (with subsequent decrease in current) at secondary. \\n2. Step down transformer: Voltage decreases (with subsequent increase in current) at secondary. \\n \\n(C) On the basis of type of supply \\n1. Single phase transformer \\n2. Three phase transformer \\n3.  \\n(D) On the basis of their use \\n1. Power transformer: Used in transmission network, high rating \\n2. Distribution transformer: Used in distribution network, comparatively lower rating than that of power \\ntransformers. \\n3. Instrument transformer: Used in relay and protection purpose in different instruments in industries \\n▪  Current transformer (CT) \\n▪ Potential transformer (PT) \\n▪  \\nOpen circuit and Short circuit Test on transformer \\nThese two transformer tests are performed to find the parameters of equivalent circuit of transformer and losses \\nof the transformer. Open circuit test and short circuit test on transformer are very economical and convenient \\nbecause they are performed without actually loading of the transformer. \\n \\nOpen circuit or No load test on Transformer \\n \\nOpen circuit test or no load test on a transformer is performed to determine 'no load loss (core loss)' and 'no load \\ncurrent I0'. The circuit diagram for open circuit test is shown in the figure below. \\n \\nUsually high voltage (HV) winding is kept open and the low voltage (LV) winding is connected to its normal \\nsupply. A wattmeter (W), ammeter (A) and voltmeter (V) are connected to the LV winding as shown in the \\n\", start_char_idx=None, end_char_idx=None, text_template='{metadata_str}\\n\\n{content}', metadata_template='{key}: {value}', metadata_seperator='\\n'),\n",
              " Document(id_='2a7c8046-4585-4438-8af8-d2399569010c', embedding=None, metadata={'page_label': '4', 'file_name': 'transformer.pdf', 'file_path': 'data/transformer.pdf', 'file_type': 'application/pdf', 'file_size': 779655, 'creation_date': '2024-11-07', 'last_modified_date': '2024-11-07', 'last_accessed_date': '2024-11-07'}, excluded_embed_metadata_keys=['file_name', 'file_type', 'file_size', 'creation_date', 'last_modified_date', 'last_accessed_date'], excluded_llm_metadata_keys=['file_name', 'file_type', 'file_size', 'creation_date', 'last_modified_date', 'last_accessed_date'], relationships={}, text='figure. Now, applied voltage is slowly increased from zero to normal rated value of the LV side with the help of \\na variac. When the applied voltage reaches to the rated value of the LV winding, readings from all the three \\ninstruments are taken. \\nThe ammeter reading gives the no load current I0. As I0 itself is very small, the voltage drops due to this current \\ncan be neglected. \\nThe input power is indicated by the wattmeter (W). And as the other side of transformer is open circuited, there \\nis no output power. Hence, this input power only consists of core losses and copper losses. As described above, \\nno-load current is so small that these copper losses can be neglected. Hence, now the input power is almost \\nequal to the core losses. Thus, the wattmeter reading gives the core losses of the transformer. \\nSometimes, a high resistance voltmeter is connected across the HV winding. Though, a voltmeter is connected, \\nHV winding can be treated as open circuit as the current through the voltmeter is negligibly small. This helps in \\nto find voltage transformation ratio (K). \\nThe two components of no load current can be given as, \\n \\nIμ = I0sinΦ0   and    Iw = I0cosΦ0. \\ncosΦ0 (no load power factor) = W / (V1I0). ... (W = wattmeter reading) \\n \\nFrom this, shunt parameters of equivalent circuit parameters of equivalent circuit of transformer (X0 and R0) can \\nbe calculated as \\n \\nX0 = V1/Iμ  and  R0 = V1/Iw. \\n \\n(These values are referring to LV side of the transformer.) \\nHence, it is seen that open circuit test gives core losses of transformer and shunt parameters of the equivalent \\ncircuit. \\n \\nShort circuit or Impedance test on Transformer \\n \\nThe connection diagram for short circuit test or impedance test on transformer is as shown in the figure \\nbelow. The LV side of transformer is short circuited and wattmeter (W), voltmere (V) and ammeter (A) are \\nconnected on the HV side of the transformer. Voltage is applied to the HV side and increased from the zero \\nuntil the ammeter reading equals the rated current. All the readings are taken at this rated current. \\nThe ammeter reading gives primary equivalent of full load current (Isc). \\nThe voltage applied for full load current is very small as compared to rated voltage. Hence, core loss due to \\nsmall applied voltage can be neglected. Thus, the wattmeter reading can be taken as copper loss in the \\ntransformer. \\nTherefore, W = Isc2Req....... (where Req is the equivalent resistance of transformer) \\n Zeq = Vsc/Isc. \\nTherefore, equivalent reactance of transformer can be calculated from the formula  Zeq2 = Req2 + Xeq2. \\nThese, values are referred to the HV side of the transformer. \\nHence, it is seen that the short circuit test gives copper losses of transformer and approximate equivalent ', start_char_idx=None, end_char_idx=None, text_template='{metadata_str}\\n\\n{content}', metadata_template='{key}: {value}', metadata_seperator='\\n'),\n",
              " Document(id_='849efda8-3014-4836-ac5a-be2c55905d37', embedding=None, metadata={'page_label': '5', 'file_name': 'transformer.pdf', 'file_path': 'data/transformer.pdf', 'file_type': 'application/pdf', 'file_size': 779655, 'creation_date': '2024-11-07', 'last_modified_date': '2024-11-07', 'last_accessed_date': '2024-11-07'}, excluded_embed_metadata_keys=['file_name', 'file_type', 'file_size', 'creation_date', 'last_modified_date', 'last_accessed_date'], excluded_llm_metadata_keys=['file_name', 'file_type', 'file_size', 'creation_date', 'last_modified_date', 'last_accessed_date'], relationships={}, text=\"resistance and reactance of the transformer. \\n \\nWhy Transformers are rated in kVA? \\nFrom the above transformer tests, it can be seen that Cu loss of a transformer depends on current, and \\niron loss depends on voltage. Thus, total transformer loss depends on volt-ampere (VA). It does not \\ndepend on the phase angle between voltage and current, i.e. transformer loss is independent of load \\npower factor. This is the reason that transformers are rated in kVA. \\nLosses in transformer \\n \\nIn any electrical machine, 'loss' can be defined as the difference between input power and output power. \\nAn electrical transformer is an static device, hence mechanical losses (like windage or friction losses) are absent \\nin it. A transformer only consists of electrical losses (iron losses and copper losses). Transformer losses are \\nsimilar to losses in a DC machine, except that transformers do not have mechanical losses. \\nLosses in transformer are explained below - \\n \\n(i) Core losses or Iron losses \\nEddy current loss and hysteresis loss depend upon the magnetic properties of the material used for the \\nconstruction of core. Hence these losses are also known as core losses or iron losses. \\n▪ Hysteresis loss in transformer: Hysteresis loss is due to reversal of magnetization in the transformer core. \\nThis loss depends upon the volume and grade of the iron, frequency of magnetic reversals and value of flux \\ndensity. It can be given by, Steinmetz formula: \\nWh= ηBmax1.6fV (watts) \\nwhere,   η = Steinmetz hysteresis constant \\n             V = volume of the core in m3 \\n▪ Eddy current loss in transformer: In transformer, AC current is supplied to the primary winding which \\nsets up alternating magnetizing flux. When this flux links with secondary winding, it produces induced emf \\nin it. But some part of this flux also gets linked with other conducting parts like steel core or iron body or \\nthe transformer, which will result in induced emf in those parts, causing small circulating current in them. \\nThis current is called as eddy current. Due to these eddy currents, some energy will be dissipated in the form \\nof heat. \\n (ii) Copper loss in transformer \\nCopper loss is due to ohmic resistance of the transformer windings.  Copper loss for the primary winding is \\nI12R1 and for secondary winding is I22R2. Where, I1 and I2 are current in primary and secondary winding \\n\", start_char_idx=None, end_char_idx=None, text_template='{metadata_str}\\n\\n{content}', metadata_template='{key}: {value}', metadata_seperator='\\n'),\n",
              " Document(id_='1e24c4f0-2adb-4359-96b8-8056f0227b46', embedding=None, metadata={'page_label': '6', 'file_name': 'transformer.pdf', 'file_path': 'data/transformer.pdf', 'file_type': 'application/pdf', 'file_size': 779655, 'creation_date': '2024-11-07', 'last_modified_date': '2024-11-07', 'last_accessed_date': '2024-11-07'}, excluded_embed_metadata_keys=['file_name', 'file_type', 'file_size', 'creation_date', 'last_modified_date', 'last_accessed_date'], excluded_llm_metadata_keys=['file_name', 'file_type', 'file_size', 'creation_date', 'last_modified_date', 'last_accessed_date'], relationships={}, text='respectively, R1 and R2 are the resistances of primary and secondary winding respectively. It is clear that Cu \\nloss is proportional to square of the current, and current depends on the load. Hence copper loss in transformer \\nvaries with the load. \\n \\nEfficiency of Transformer \\n \\nJust like any other electrical machine, efficiency of a transformer can be defined as the output power divided \\nby the input power. That is  efficiency = output / input . \\nTransformers are the most highly efficient electrical devices. Most of the transformers have full load efficiency \\nbetween 95% to 98.5% . As a transformer being highly efficient, output and input are having nearly same value, \\nand hence it is impractical to measure the efficiency of transformer by using output / input. A better method to \\nfind efficiency of a transformer is using, efficiency = (input - losses) / input = 1 - (losses / input). \\nCondition for maximum efficiency \\nLet, \\nCopper loss = I12R1 \\nIron loss = Wi \\n \\n', start_char_idx=None, end_char_idx=None, text_template='{metadata_str}\\n\\n{content}', metadata_template='{key}: {value}', metadata_seperator='\\n'),\n",
              " Document(id_='dfbd2958-17e6-4ded-ad57-07d4e5afa293', embedding=None, metadata={'page_label': '7', 'file_name': 'transformer.pdf', 'file_path': 'data/transformer.pdf', 'file_type': 'application/pdf', 'file_size': 779655, 'creation_date': '2024-11-07', 'last_modified_date': '2024-11-07', 'last_accessed_date': '2024-11-07'}, excluded_embed_metadata_keys=['file_name', 'file_type', 'file_size', 'creation_date', 'last_modified_date', 'last_accessed_date'], excluded_llm_metadata_keys=['file_name', 'file_type', 'file_size', 'creation_date', 'last_modified_date', 'last_accessed_date'], relationships={}, text='Hence, efficiency of a transformer will be maximum when copper loss and iron losses are equal. \\nThat is Copper loss = Iron loss. \\nAll day efficiency of transformer \\n \\nAs we have seen above, ordinary or commercial efficiency of a transformer can be given as \\n \\n \\nBut in some types of transformers, their performance can not be judged by this efficiency. For example, \\ndistribution transformers have their primaries energized all the time. But, their secondaries supply little load all \\nno-load most of the time during day (as residential use of electricity is observed mostly during evening till \\nmidnight). \\nThat is, when secondaries of transformer are not supplying any load (or supplying only little load), then only \\ncore losses of transformer are considerable and copper losses are absent (or very little). Copper losses are \\nconsiderable only when transformers are loaded. Thus, for such transformers copper losses are relatively less \\nimportant.  The performance of such transformers is compared on the basis of energy consumed in one day. \\n \\nAll day efficiency of a transformer is always less than ordinary efficiency of it \\nEMF equation of a transformer and Voltage Transformation Ratio \\n \\nIn a transformer, source of alternating current is applied to the primary winding. Due to this, the current in the \\nprimary winding (called as magnetizing current) produces alternating flux in the core of transformer. This \\nalternating flux gets linked with the secondary winding, and because of the phenomenon of mutual induction an \\nemf gets induced in the secondary winding. Magnitude of this induced emf can be found by using the \\nfollowing EMF equation of the transformer. \\nEMF equation of the Transformer \\nLet, \\nN1 = Number of turns in primary winding \\nN2 = Number of turns in secondary winding \\nΦm = Maximum flux in the core (in Wb) = (Bm x A) \\nf = frequency of the AC supply (in Hz) \\n', start_char_idx=None, end_char_idx=None, text_template='{metadata_str}\\n\\n{content}', metadata_template='{key}: {value}', metadata_seperator='\\n'),\n",
              " Document(id_='985ba9af-31dc-47b9-92d5-8d0ef729acbe', embedding=None, metadata={'page_label': '8', 'file_name': 'transformer.pdf', 'file_path': 'data/transformer.pdf', 'file_type': 'application/pdf', 'file_size': 779655, 'creation_date': '2024-11-07', 'last_modified_date': '2024-11-07', 'last_accessed_date': '2024-11-07'}, excluded_embed_metadata_keys=['file_name', 'file_type', 'file_size', 'creation_date', 'last_modified_date', 'last_accessed_date'], excluded_llm_metadata_keys=['file_name', 'file_type', 'file_size', 'creation_date', 'last_modified_date', 'last_accessed_date'], relationships={}, text=' \\n \\nAs, shown in the fig., the flux rises sinusoidally to its maximum value Φm from 0. It reaches to the maximum \\nvalue in one quarter of the cycle i.e in T/4 sec (where, T is time period of the sin wave of the supply = 1/f). \\nTherefore, \\naverage rate of change of flux = Φm /(T/4)    = Φm /(1/4f) \\nTherefore, \\naverage rate of change of flux = 4f Φm       ....... (Wb/s). \\nNow, \\nInduced emf per turn = rate of change of flux per turn \\n \\nTherefore, average emf per turn = 4f Φm   ..........(Volts). Now, we know,  Form factor = RMS value / average \\nvalue \\nTherefore, RMS value of emf per turn = Form factor X average emf per turn. \\n \\nAs, the flux Φ varies sinusoidally, form factor of a sine wave is 1.11 \\nTherefore, RMS value of emf per turn =  1.11 x 4f Φm = 4.44f Φm. \\nRMS value of induced emf in whole primary winding (E1) = RMS value of emf per turn X Number of turns in \\nprimary winding \\n \\n          E1 = 4.44f N1 Φm          ............................. eq 1 \\nSimilarly, RMS induced emf in secondary winding (E2) can be given as \\n \\n          E2 = 4.44f N2 Φm.          ............................ eq 2 \\n \\nfrom the above equations 1 and 2, \\n \\nThis is called the emf equation of transformer, which shows, emf / number of turns is same for both primary \\nand secondary winding. \\n \\n', start_char_idx=None, end_char_idx=None, text_template='{metadata_str}\\n\\n{content}', metadata_template='{key}: {value}', metadata_seperator='\\n'),\n",
              " Document(id_='13f05865-5be2-4901-8e72-96b1d3353b06', embedding=None, metadata={'page_label': '9', 'file_name': 'transformer.pdf', 'file_path': 'data/transformer.pdf', 'file_type': 'application/pdf', 'file_size': 779655, 'creation_date': '2024-11-07', 'last_modified_date': '2024-11-07', 'last_accessed_date': '2024-11-07'}, excluded_embed_metadata_keys=['file_name', 'file_type', 'file_size', 'creation_date', 'last_modified_date', 'last_accessed_date'], excluded_llm_metadata_keys=['file_name', 'file_type', 'file_size', 'creation_date', 'last_modified_date', 'last_accessed_date'], relationships={}, text='For an ideal transformer on no load, E1 = V1 and E2 = V2 . \\nwhere, V1 = supply voltage of primary winding \\n            V2 = terminal voltage of secondary winding \\nVoltage Transformation Ratio (K) \\nAs derived above, \\n \\nWhere, K = constant \\nThis constant K is known as voltage transformation ratio. \\n \\n▪ If N2 > N1, i.e. K > 1, then the transformer is called step-up transformer. \\n▪ If N2 < N1, i.e. K < 1, then the transformer is called step-down transformer. \\n▪  \\nEquivalent circuit of Transformer \\n \\nn a practical transformer - \\n(a) Some leakage flux is present at both primary and secondary sides. This leakage gives rise to leakage \\nreactances at both sides, which are denoted as X1 and X2 respectively. \\n(b) Both the primary and secondary winding possesses resistance, denoted as R1 and R2 respectively. These \\nresistances causes voltage drop as, I1R1 and I2R2 and also copper loss I12R1 and I22R2. \\n(c) Permeability of the core can not be infinite, hence some magnetizing current is needed. Mutual flux also \\ncauses core loss in iron parts of the transformer. \\nEquivalent circuit of transformer \\n \\nResistances and reactances of transformer, which are described above, can be imagined separately from the \\nwindings (as shown in the figure below). Hence, the function of windings, thereafter, will only be the \\ntransforming the voltage. \\n \\nThe no load current I0 is divided into, pure inductance X0 (taking magnetizing components Iμ) and non \\ninduction resistance R0 (taking working component Iw) which are connected into parallel across the primary. \\n', start_char_idx=None, end_char_idx=None, text_template='{metadata_str}\\n\\n{content}', metadata_template='{key}: {value}', metadata_seperator='\\n'),\n",
              " Document(id_='ec368bf9-0b69-4209-b6cd-98599dfc6f1b', embedding=None, metadata={'page_label': '10', 'file_name': 'transformer.pdf', 'file_path': 'data/transformer.pdf', 'file_type': 'application/pdf', 'file_size': 779655, 'creation_date': '2024-11-07', 'last_modified_date': '2024-11-07', 'last_accessed_date': '2024-11-07'}, excluded_embed_metadata_keys=['file_name', 'file_type', 'file_size', 'creation_date', 'last_modified_date', 'last_accessed_date'], excluded_llm_metadata_keys=['file_name', 'file_type', 'file_size', 'creation_date', 'last_modified_date', 'last_accessed_date'], relationships={}, text=\"The value of E1 can be obtained by subtracting I1Z1 from V1. The value of R0 and X0 can be calculated as, R0 = \\nE1 / Iw and X0 = E1 / Iμ. \\nBut, using this equivalent circuit does not simplifies the calculations. To make calculations simpler, it is \\npreferable to transfer current, voltage and impedance either to primary side or to the secondary side. In that \\ncase, we would have to work with only one winding which is more convenient. \\n \\nFrom the voltage transformation ratio, it is clear that, \\nE1 / E2 = N1 / N2 = K \\n \\nNow, lets refer the parameters of secondary side to primary. \\nZ2 can be referred to primary as Z2' \\nwhere, Z2' = (N1/N2)2Z2 = K2Z2.   ............where K= N1/N2. \\nthat is, R2'+jX2' = K2(R2+jX2) \\nequating real and imaginary parts, \\nR2' =  K2R2 and X2' = K2X2 . \\nAnd V2' = KV2 \\nThe following figure shows the equivalent circuit of transformer with secondary parameters referred to \\nthe primary. \\n \\nNow, as the values of winding resistance and leakage reactance are so small that, V1 and E1 can be assumed to \\nbe equal. Therefore, the exciting current drawn by the parallel combination of  R0 and X0 would not affect \\nsignificantly, if we move it to the input terminals as shown in the figure below. \\n \\n\", start_char_idx=None, end_char_idx=None, text_template='{metadata_str}\\n\\n{content}', metadata_template='{key}: {value}', metadata_seperator='\\n'),\n",
              " Document(id_='1b69d0e5-9301-4c5b-875c-8ac7a45f5152', embedding=None, metadata={'page_label': '11', 'file_name': 'transformer.pdf', 'file_path': 'data/transformer.pdf', 'file_type': 'application/pdf', 'file_size': 779655, 'creation_date': '2024-11-07', 'last_modified_date': '2024-11-07', 'last_accessed_date': '2024-11-07'}, excluded_embed_metadata_keys=['file_name', 'file_type', 'file_size', 'creation_date', 'last_modified_date', 'last_accessed_date'], excluded_llm_metadata_keys=['file_name', 'file_type', 'file_size', 'creation_date', 'last_modified_date', 'last_accessed_date'], relationships={}, text=\" \\nNow, let R1 + R2' = R'eq  and X1 + X2' = X'eq \\nThen the equivalent circuit of transformer becomes as shown in the figure below \\n \\nApproximate equivalent circuit of transformer \\nIf only voltage regulation is to be calculated, then even the whole excitation branch (parallel combination of R0 \\nand X0) can be neglected. Then the equivalent circuit becomes as shown in the figure below \\n \\nTransformer on No Load Condition \\nWhen the transformer is operating at no load, the secondary winding is open-circuited, which means there is no \\nload on the secondary side of the transformer and, therefore, current in the secondary will be zero. While \\nprimary winding carries a small current I0 called no-load current which is 2 to 10% of the rated current. \\nThis current is responsible for supplying the iron losses (hysteresis and eddy current losses) in the core and a \\nvery small amount of copper losses in the primary winding. The angle of lag depends upon the losses in the \\ntransformer. The power factor is very low and varies from 0.1 to 0.15. \\n\", start_char_idx=None, end_char_idx=None, text_template='{metadata_str}\\n\\n{content}', metadata_template='{key}: {value}', metadata_seperator='\\n'),\n",
              " Document(id_='c70aa08c-051d-434a-ab80-4822559c4608', embedding=None, metadata={'page_label': '12', 'file_name': 'transformer.pdf', 'file_path': 'data/transformer.pdf', 'file_type': 'application/pdf', 'file_size': 779655, 'creation_date': '2024-11-07', 'last_modified_date': '2024-11-07', 'last_accessed_date': '2024-11-07'}, excluded_embed_metadata_keys=['file_name', 'file_type', 'file_size', 'creation_date', 'last_modified_date', 'last_accessed_date'], excluded_llm_metadata_keys=['file_name', 'file_type', 'file_size', 'creation_date', 'last_modified_date', 'last_accessed_date'], relationships={}, text='The no-load current consists of two \\ncomponents: \\n• Reactive or magnetizing component Im \\n(It is in quadrature with the applied voltage V1. It produces flux in the core and does not consume any power). \\n• Active or power component Iw, also know as a working component \\n(It is in phase with the applied voltage V1. It supplies the iron losses and a small amount of primary copper \\nloss). \\nThe following steps are given below to draw the phasor diagram: \\n1. The function of the magnetizing component is to produce the magnetizing flux, and thus, it will be in phase \\nwith the flux. \\n2. Induced emf in the primary and the secondary winding lags the flux ϕ by 90 degrees. \\n3. The primary copper loss is neglected, and secondary current losses are zero as \\nI2 = 0. \\nTherefore, the current I0 lags behind the voltage vector V1 by an angle ϕ0 called the no-load power factor angle \\nand is shown in the phasor diagram above. \\n4. The applied voltage V1 is drawn equal and opposite to the induced emf E1 because the difference between the \\ntwo, at no load, is negligible. \\n5. Active component Iw is drawn in phase with the applied voltage V1. \\n6. The phasor sum of magnetizing current Im and the working current Iw gives the no-load current I0. \\n', start_char_idx=None, end_char_idx=None, text_template='{metadata_str}\\n\\n{content}', metadata_template='{key}: {value}', metadata_seperator='\\n'),\n",
              " Document(id_='55119d10-49df-479d-996b-f0b213488e86', embedding=None, metadata={'page_label': '13', 'file_name': 'transformer.pdf', 'file_path': 'data/transformer.pdf', 'file_type': 'application/pdf', 'file_size': 779655, 'creation_date': '2024-11-07', 'last_modified_date': '2024-11-07', 'last_accessed_date': '2024-11-07'}, excluded_embed_metadata_keys=['file_name', 'file_type', 'file_size', 'creation_date', 'last_modified_date', 'last_accessed_date'], excluded_llm_metadata_keys=['file_name', 'file_type', 'file_size', 'creation_date', 'last_modified_date', 'last_accessed_date'], relationships={}, text='7. From the phasor diagram drawn above, the following \\nconclusions are made  \\nTransformer On Load Condition \\nWhen the transformer is on the loaded condition, the secondary of the transformer is connected to load. The \\nload can be resistive, inductive or capacitive. The current I2 flows through the secondary winding of the \\ntransformer. The magnitude of the secondary current depends on the terminal voltage V2 and the load \\nimpedance. The phase angle between the secondary current and voltage depends on the nature of the load. \\nOperation of the Transformer on Load Condition \\nThe Operation of the Transformer on Load Condition is explained below: \\n• When the secondary of the transformer is kept open, it draws the no-load current from the main supply. The no-\\nload current induces the magnetomotive force N0I0 and this force set up the flux Φ in the core of the \\ntransformer. The circuit of the transformer at no load condition is shown in the figure below: \\n', start_char_idx=None, end_char_idx=None, text_template='{metadata_str}\\n\\n{content}', metadata_template='{key}: {value}', metadata_seperator='\\n'),\n",
              " Document(id_='fda1783b-ed23-4e39-bf98-5bfc0344035b', embedding=None, metadata={'page_label': '14', 'file_name': 'transformer.pdf', 'file_path': 'data/transformer.pdf', 'file_type': 'application/pdf', 'file_size': 779655, 'creation_date': '2024-11-07', 'last_modified_date': '2024-11-07', 'last_accessed_date': '2024-11-07'}, excluded_embed_metadata_keys=['file_name', 'file_type', 'file_size', 'creation_date', 'last_modified_date', 'last_accessed_date'], excluded_llm_metadata_keys=['file_name', 'file_type', 'file_size', 'creation_date', 'last_modified_date', 'last_accessed_date'], relationships={}, text='•  \\no When the load is connected to the secondary of the transformer, I2 current flows through their secondary \\nwinding. The secondary current induces the magnetomotive force N2I2 on the secondary winding of the \\ntransformer. This force set up the flux φ2 in the transformer core. The flux φ2 opposes the flux φ, according \\nto Lenz’s law. \\n \\n▪ As the flux φ2 opposes the flux φ, the resultant flux of the transformer decreases and this flux reduces the \\ninduced EMF E1. Thus, the strength of the V1 is more than E1 and an additional primary current I’1 drawn from \\nthe main supply. \\nThe additional current is used for restoring the original value of the flux in the core of the transformer so that \\nV1 = E1. The primary current I’1 is in phase opposition with the secondary current I2. Thus, it is called \\nthe primary counter-balancing current. \\n▪ The additional current I’1 induces the magnetomotive force N1I’1. And this force set up the flux φ’1. The \\ndirection of the flux is the same as that of the φ and it cancels the flux φ2 which induces because of the MMF \\nN2I2 \\n', start_char_idx=None, end_char_idx=None, text_template='{metadata_str}\\n\\n{content}', metadata_template='{key}: {value}', metadata_seperator='\\n'),\n",
              " Document(id_='01b15469-a118-42ce-b4a9-70bbbd6ec288', embedding=None, metadata={'page_label': '15', 'file_name': 'transformer.pdf', 'file_path': 'data/transformer.pdf', 'file_type': 'application/pdf', 'file_size': 779655, 'creation_date': '2024-11-07', 'last_modified_date': '2024-11-07', 'last_accessed_date': '2024-11-07'}, excluded_embed_metadata_keys=['file_name', 'file_type', 'file_size', 'creation_date', 'last_modified_date', 'last_accessed_date'], excluded_llm_metadata_keys=['file_name', 'file_type', 'file_size', 'creation_date', 'last_modified_date', 'last_accessed_date'], relationships={}, text='Now, N1I1’ = N2I2 \\nTherefore,  \\n• The phase difference between V1 and I1 gives the power factor angle ϕ1 of the primary side of the transformer. \\n• The power factor of the secondary side depends upon the type of load connected to the transformer. \\n• If the load is inductive as shown in the above phasor diagram, the power factor will be lagging, and if the load is \\ncapacitive, the power factor will be leading. The total primary current I1 is the vector sum of the currents I0 and \\nI1’. i.e \\n \\nPhasor Diagram of Transformer on Inductive Load \\nThe phasor diagram of the actual transformer when it is loaded inductively is shown below: \\n \\n', start_char_idx=None, end_char_idx=None, text_template='{metadata_str}\\n\\n{content}', metadata_template='{key}: {value}', metadata_seperator='\\n'),\n",
              " Document(id_='729762aa-7121-44f0-ba6e-f2008a80c01f', embedding=None, metadata={'page_label': '16', 'file_name': 'transformer.pdf', 'file_path': 'data/transformer.pdf', 'file_type': 'application/pdf', 'file_size': 779655, 'creation_date': '2024-11-07', 'last_modified_date': '2024-11-07', 'last_accessed_date': '2024-11-07'}, excluded_embed_metadata_keys=['file_name', 'file_type', 'file_size', 'creation_date', 'last_modified_date', 'last_accessed_date'], excluded_llm_metadata_keys=['file_name', 'file_type', 'file_size', 'creation_date', 'last_modified_date', 'last_accessed_date'], relationships={}, text='Phasor Diagram of the Transformer on Inductive Load \\nSteps to draw the phasor diagram \\n• Take flux ϕ, a reference \\n• Induces emf E1 and E2 lags the flux by 90 degrees. \\n• The component of the applied voltage to the primary equal and opposite to induced emf in the primary winding. \\nE1 is represented by V1’. \\n• Current I0 lags the voltage V1’ by 90 degrees. \\n• The power factor of the load is lagging. Therefore current I2 is drawn lagging E2 by an angle ϕ2. \\n• The resistance and the leakage reactance of the windings result in a voltage drop, and hence secondary terminal \\nvoltage V2 is the phase difference of E2 and voltage drop. \\nV2 = E2 – voltage drops \\nI2 R2 is in phase with I2 and I2X2 is in quadrature with I2. \\n• The total current flowing in the primary winding is the phasor sum of I1’ and I0. \\n• Primary applied voltage V1 is the phasor sum of V1’ and the voltage drop in the primary winding. \\n• Current I1’ is drawn equal and opposite to the current I2 \\nV1 = V1’ + voltage drop \\nI1R1 is in phase with I1 and I1XI is in quadrature with I1. \\n• The phasor difference between V1 and I1 gives the power factor angle ϕ1 of the primary side of the transformer. \\n• The power factor of the secondary side depends upon the type of load connected to the transformer. \\n• If the load is inductive as shown in the above phasor diagram, the power factor will be lagging, and if the load is \\ncapacitive, the power factor will be leading.       Where I1R1 is the resistive drop in the primary windings \\nI2X2 is the reactive drop in the secondary winding \\nSimilarly \\nPhasor Diagram of Transformer on Capacitive Load \\nThe Transformer on the Capacitive load (leading power factor load) is shown below in the phasor diagram. \\nSteps to draw the phasor diagram at capacitive load \\n• Take flux ϕ a reference \\n• Induces emf E1 and E2 lags the flux by 90 degrees. \\n• The component of the applied voltage to the primary equal and opposite to induced emf in the primary winding. \\nE1 is represented by V1’. \\n• Current I0 lags the voltage V1’ by 90 degrees. \\n• The power factor of the load is leading. Therefore current I2 is drawn leading E2 \\n• The resistance and the leakage reactance of the windings result in a voltage drop, and hence secondary terminal \\nvoltage V2 is the phasor difference of E2 and voltage drop. \\nV2 = E2 – voltage drops \\nI2 R2 is in phase with I2 and I2X2 is in quadrature with I2. \\n• Current I1’ is drawn equal and opposite to the current I2 ', start_char_idx=None, end_char_idx=None, text_template='{metadata_str}\\n\\n{content}', metadata_template='{key}: {value}', metadata_seperator='\\n'),\n",
              " Document(id_='67a57cca-af5a-423b-97e5-78d092bbf4cf', embedding=None, metadata={'page_label': '17', 'file_name': 'transformer.pdf', 'file_path': 'data/transformer.pdf', 'file_type': 'application/pdf', 'file_size': 779655, 'creation_date': '2024-11-07', 'last_modified_date': '2024-11-07', 'last_accessed_date': '2024-11-07'}, excluded_embed_metadata_keys=['file_name', 'file_type', 'file_size', 'creation_date', 'last_modified_date', 'last_accessed_date'], excluded_llm_metadata_keys=['file_name', 'file_type', 'file_size', 'creation_date', 'last_modified_date', 'last_accessed_date'], relationships={}, text='• The total current I1 flowing in the primary winding is the phasor sum of I1’ and I0. \\n• Primary applied voltage V1 is the phasor sum of V1’ and the voltage drop in the primary winding. \\nV1 = V1’ + voltage drop \\nI1R1 is in phase with I1 and I1XI is in quadrature with I1. \\n• The phasor difference between V1 and I1 gives the power factor angle ϕ1 of the primary side of the transformer. \\n• The power factor of the secondary side depends upon the type of load connected to the transformer. \\nThis is all about the phasor diagram on various loads. \\n \\n \\nPhasor Diagram of the Transformer on Capacitive Load \\n \\n \\n', start_char_idx=None, end_char_idx=None, text_template='{metadata_str}\\n\\n{content}', metadata_template='{key}: {value}', metadata_seperator='\\n')]"
            ]
          },
          "metadata": {},
          "execution_count": 6
        }
      ],
      "source": [
        "documents"
      ]
    },
    {
      "cell_type": "markdown",
      "metadata": {
        "id": "UxcIz54z9Qww"
      },
      "source": [
        "## Split the Text into Small Chunks"
      ]
    },
    {
      "cell_type": "code",
      "execution_count": 7,
      "metadata": {
        "colab": {
          "base_uri": "https://localhost:8080/"
        },
        "id": "UpNKrHty_WMh",
        "outputId": "7a91996c-9b71-4128-d213-122a97f7bd8b"
      },
      "outputs": [
        {
          "output_type": "stream",
          "name": "stdout",
          "text": [
            "Requirement already satisfied: sentence_transformers in /usr/local/lib/python3.10/dist-packages (3.2.1)\n",
            "Requirement already satisfied: transformers<5.0.0,>=4.41.0 in /usr/local/lib/python3.10/dist-packages (from sentence_transformers) (4.44.2)\n",
            "Requirement already satisfied: tqdm in /usr/local/lib/python3.10/dist-packages (from sentence_transformers) (4.66.6)\n",
            "Requirement already satisfied: torch>=1.11.0 in /usr/local/lib/python3.10/dist-packages (from sentence_transformers) (2.5.0+cu121)\n",
            "Requirement already satisfied: scikit-learn in /usr/local/lib/python3.10/dist-packages (from sentence_transformers) (1.5.2)\n",
            "Requirement already satisfied: scipy in /usr/local/lib/python3.10/dist-packages (from sentence_transformers) (1.13.1)\n",
            "Requirement already satisfied: huggingface-hub>=0.20.0 in /usr/local/lib/python3.10/dist-packages (from sentence_transformers) (0.24.7)\n",
            "Requirement already satisfied: Pillow in /usr/local/lib/python3.10/dist-packages (from sentence_transformers) (10.4.0)\n",
            "Requirement already satisfied: filelock in /usr/local/lib/python3.10/dist-packages (from huggingface-hub>=0.20.0->sentence_transformers) (3.16.1)\n",
            "Requirement already satisfied: fsspec>=2023.5.0 in /usr/local/lib/python3.10/dist-packages (from huggingface-hub>=0.20.0->sentence_transformers) (2024.10.0)\n",
            "Requirement already satisfied: packaging>=20.9 in /usr/local/lib/python3.10/dist-packages (from huggingface-hub>=0.20.0->sentence_transformers) (24.1)\n",
            "Requirement already satisfied: pyyaml>=5.1 in /usr/local/lib/python3.10/dist-packages (from huggingface-hub>=0.20.0->sentence_transformers) (6.0.2)\n",
            "Requirement already satisfied: requests in /usr/local/lib/python3.10/dist-packages (from huggingface-hub>=0.20.0->sentence_transformers) (2.32.3)\n",
            "Requirement already satisfied: typing-extensions>=3.7.4.3 in /usr/local/lib/python3.10/dist-packages (from huggingface-hub>=0.20.0->sentence_transformers) (4.12.2)\n",
            "Requirement already satisfied: networkx in /usr/local/lib/python3.10/dist-packages (from torch>=1.11.0->sentence_transformers) (3.4.2)\n",
            "Requirement already satisfied: jinja2 in /usr/local/lib/python3.10/dist-packages (from torch>=1.11.0->sentence_transformers) (3.1.4)\n",
            "Requirement already satisfied: sympy==1.13.1 in /usr/local/lib/python3.10/dist-packages (from torch>=1.11.0->sentence_transformers) (1.13.1)\n",
            "Requirement already satisfied: mpmath<1.4,>=1.1.0 in /usr/local/lib/python3.10/dist-packages (from sympy==1.13.1->torch>=1.11.0->sentence_transformers) (1.3.0)\n",
            "Requirement already satisfied: numpy>=1.17 in /usr/local/lib/python3.10/dist-packages (from transformers<5.0.0,>=4.41.0->sentence_transformers) (1.26.4)\n",
            "Requirement already satisfied: regex!=2019.12.17 in /usr/local/lib/python3.10/dist-packages (from transformers<5.0.0,>=4.41.0->sentence_transformers) (2024.9.11)\n",
            "Requirement already satisfied: safetensors>=0.4.1 in /usr/local/lib/python3.10/dist-packages (from transformers<5.0.0,>=4.41.0->sentence_transformers) (0.4.5)\n",
            "Requirement already satisfied: tokenizers<0.20,>=0.19 in /usr/local/lib/python3.10/dist-packages (from transformers<5.0.0,>=4.41.0->sentence_transformers) (0.19.1)\n",
            "Requirement already satisfied: joblib>=1.2.0 in /usr/local/lib/python3.10/dist-packages (from scikit-learn->sentence_transformers) (1.4.2)\n",
            "Requirement already satisfied: threadpoolctl>=3.1.0 in /usr/local/lib/python3.10/dist-packages (from scikit-learn->sentence_transformers) (3.5.0)\n",
            "Requirement already satisfied: MarkupSafe>=2.0 in /usr/local/lib/python3.10/dist-packages (from jinja2->torch>=1.11.0->sentence_transformers) (3.0.2)\n",
            "Requirement already satisfied: charset-normalizer<4,>=2 in /usr/local/lib/python3.10/dist-packages (from requests->huggingface-hub>=0.20.0->sentence_transformers) (3.4.0)\n",
            "Requirement already satisfied: idna<4,>=2.5 in /usr/local/lib/python3.10/dist-packages (from requests->huggingface-hub>=0.20.0->sentence_transformers) (3.10)\n",
            "Requirement already satisfied: urllib3<3,>=1.21.1 in /usr/local/lib/python3.10/dist-packages (from requests->huggingface-hub>=0.20.0->sentence_transformers) (2.2.3)\n",
            "Requirement already satisfied: certifi>=2017.4.17 in /usr/local/lib/python3.10/dist-packages (from requests->huggingface-hub>=0.20.0->sentence_transformers) (2024.8.30)\n"
          ]
        }
      ],
      "source": [
        "!pip install sentence_transformers"
      ]
    },
    {
      "cell_type": "code",
      "source": [
        "!pip install langchain-community"
      ],
      "metadata": {
        "colab": {
          "base_uri": "https://localhost:8080/"
        },
        "id": "9YJ_fjrXyIeJ",
        "outputId": "e3f96bca-37bf-4c0d-894d-567cdf04b8e1"
      },
      "execution_count": 8,
      "outputs": [
        {
          "output_type": "stream",
          "name": "stdout",
          "text": [
            "Requirement already satisfied: langchain-community in /usr/local/lib/python3.10/dist-packages (0.3.5)\n",
            "Requirement already satisfied: PyYAML>=5.3 in /usr/local/lib/python3.10/dist-packages (from langchain-community) (6.0.2)\n",
            "Requirement already satisfied: SQLAlchemy<2.0.36,>=1.4 in /usr/local/lib/python3.10/dist-packages (from langchain-community) (2.0.35)\n",
            "Requirement already satisfied: aiohttp<4.0.0,>=3.8.3 in /usr/local/lib/python3.10/dist-packages (from langchain-community) (3.10.10)\n",
            "Requirement already satisfied: dataclasses-json<0.7,>=0.5.7 in /usr/local/lib/python3.10/dist-packages (from langchain-community) (0.6.7)\n",
            "Requirement already satisfied: httpx-sse<0.5.0,>=0.4.0 in /usr/local/lib/python3.10/dist-packages (from langchain-community) (0.4.0)\n",
            "Requirement already satisfied: langchain<0.4.0,>=0.3.6 in /usr/local/lib/python3.10/dist-packages (from langchain-community) (0.3.7)\n",
            "Requirement already satisfied: langchain-core<0.4.0,>=0.3.15 in /usr/local/lib/python3.10/dist-packages (from langchain-community) (0.3.15)\n",
            "Requirement already satisfied: langsmith<0.2.0,>=0.1.125 in /usr/local/lib/python3.10/dist-packages (from langchain-community) (0.1.137)\n",
            "Requirement already satisfied: numpy<2,>=1 in /usr/local/lib/python3.10/dist-packages (from langchain-community) (1.26.4)\n",
            "Requirement already satisfied: pydantic-settings<3.0.0,>=2.4.0 in /usr/local/lib/python3.10/dist-packages (from langchain-community) (2.6.1)\n",
            "Requirement already satisfied: requests<3,>=2 in /usr/local/lib/python3.10/dist-packages (from langchain-community) (2.32.3)\n",
            "Requirement already satisfied: tenacity!=8.4.0,<10,>=8.1.0 in /usr/local/lib/python3.10/dist-packages (from langchain-community) (8.5.0)\n",
            "Requirement already satisfied: aiohappyeyeballs>=2.3.0 in /usr/local/lib/python3.10/dist-packages (from aiohttp<4.0.0,>=3.8.3->langchain-community) (2.4.3)\n",
            "Requirement already satisfied: aiosignal>=1.1.2 in /usr/local/lib/python3.10/dist-packages (from aiohttp<4.0.0,>=3.8.3->langchain-community) (1.3.1)\n",
            "Requirement already satisfied: attrs>=17.3.0 in /usr/local/lib/python3.10/dist-packages (from aiohttp<4.0.0,>=3.8.3->langchain-community) (24.2.0)\n",
            "Requirement already satisfied: frozenlist>=1.1.1 in /usr/local/lib/python3.10/dist-packages (from aiohttp<4.0.0,>=3.8.3->langchain-community) (1.5.0)\n",
            "Requirement already satisfied: multidict<7.0,>=4.5 in /usr/local/lib/python3.10/dist-packages (from aiohttp<4.0.0,>=3.8.3->langchain-community) (6.1.0)\n",
            "Requirement already satisfied: yarl<2.0,>=1.12.0 in /usr/local/lib/python3.10/dist-packages (from aiohttp<4.0.0,>=3.8.3->langchain-community) (1.17.0)\n",
            "Requirement already satisfied: async-timeout<5.0,>=4.0 in /usr/local/lib/python3.10/dist-packages (from aiohttp<4.0.0,>=3.8.3->langchain-community) (4.0.3)\n",
            "Requirement already satisfied: marshmallow<4.0.0,>=3.18.0 in /usr/local/lib/python3.10/dist-packages (from dataclasses-json<0.7,>=0.5.7->langchain-community) (3.23.1)\n",
            "Requirement already satisfied: typing-inspect<1,>=0.4.0 in /usr/local/lib/python3.10/dist-packages (from dataclasses-json<0.7,>=0.5.7->langchain-community) (0.9.0)\n",
            "Requirement already satisfied: langchain-text-splitters<0.4.0,>=0.3.0 in /usr/local/lib/python3.10/dist-packages (from langchain<0.4.0,>=0.3.6->langchain-community) (0.3.0)\n",
            "Requirement already satisfied: pydantic<3.0.0,>=2.7.4 in /usr/local/lib/python3.10/dist-packages (from langchain<0.4.0,>=0.3.6->langchain-community) (2.9.2)\n",
            "Requirement already satisfied: jsonpatch<2.0,>=1.33 in /usr/local/lib/python3.10/dist-packages (from langchain-core<0.4.0,>=0.3.15->langchain-community) (1.33)\n",
            "Requirement already satisfied: packaging<25,>=23.2 in /usr/local/lib/python3.10/dist-packages (from langchain-core<0.4.0,>=0.3.15->langchain-community) (24.1)\n",
            "Requirement already satisfied: typing-extensions>=4.7 in /usr/local/lib/python3.10/dist-packages (from langchain-core<0.4.0,>=0.3.15->langchain-community) (4.12.2)\n",
            "Requirement already satisfied: httpx<1,>=0.23.0 in /usr/local/lib/python3.10/dist-packages (from langsmith<0.2.0,>=0.1.125->langchain-community) (0.27.2)\n",
            "Requirement already satisfied: orjson<4.0.0,>=3.9.14 in /usr/local/lib/python3.10/dist-packages (from langsmith<0.2.0,>=0.1.125->langchain-community) (3.10.10)\n",
            "Requirement already satisfied: requests-toolbelt<2.0.0,>=1.0.0 in /usr/local/lib/python3.10/dist-packages (from langsmith<0.2.0,>=0.1.125->langchain-community) (1.0.0)\n",
            "Requirement already satisfied: python-dotenv>=0.21.0 in /usr/local/lib/python3.10/dist-packages (from pydantic-settings<3.0.0,>=2.4.0->langchain-community) (1.0.1)\n",
            "Requirement already satisfied: charset-normalizer<4,>=2 in /usr/local/lib/python3.10/dist-packages (from requests<3,>=2->langchain-community) (3.4.0)\n",
            "Requirement already satisfied: idna<4,>=2.5 in /usr/local/lib/python3.10/dist-packages (from requests<3,>=2->langchain-community) (3.10)\n",
            "Requirement already satisfied: urllib3<3,>=1.21.1 in /usr/local/lib/python3.10/dist-packages (from requests<3,>=2->langchain-community) (2.2.3)\n",
            "Requirement already satisfied: certifi>=2017.4.17 in /usr/local/lib/python3.10/dist-packages (from requests<3,>=2->langchain-community) (2024.8.30)\n",
            "Requirement already satisfied: greenlet!=0.4.17 in /usr/local/lib/python3.10/dist-packages (from SQLAlchemy<2.0.36,>=1.4->langchain-community) (3.1.1)\n",
            "Requirement already satisfied: anyio in /usr/local/lib/python3.10/dist-packages (from httpx<1,>=0.23.0->langsmith<0.2.0,>=0.1.125->langchain-community) (3.7.1)\n",
            "Requirement already satisfied: httpcore==1.* in /usr/local/lib/python3.10/dist-packages (from httpx<1,>=0.23.0->langsmith<0.2.0,>=0.1.125->langchain-community) (1.0.6)\n",
            "Requirement already satisfied: sniffio in /usr/local/lib/python3.10/dist-packages (from httpx<1,>=0.23.0->langsmith<0.2.0,>=0.1.125->langchain-community) (1.3.1)\n",
            "Requirement already satisfied: h11<0.15,>=0.13 in /usr/local/lib/python3.10/dist-packages (from httpcore==1.*->httpx<1,>=0.23.0->langsmith<0.2.0,>=0.1.125->langchain-community) (0.14.0)\n",
            "Requirement already satisfied: jsonpointer>=1.9 in /usr/local/lib/python3.10/dist-packages (from jsonpatch<2.0,>=1.33->langchain-core<0.4.0,>=0.3.15->langchain-community) (3.0.0)\n",
            "Requirement already satisfied: annotated-types>=0.6.0 in /usr/local/lib/python3.10/dist-packages (from pydantic<3.0.0,>=2.7.4->langchain<0.4.0,>=0.3.6->langchain-community) (0.7.0)\n",
            "Requirement already satisfied: pydantic-core==2.23.4 in /usr/local/lib/python3.10/dist-packages (from pydantic<3.0.0,>=2.7.4->langchain<0.4.0,>=0.3.6->langchain-community) (2.23.4)\n",
            "Requirement already satisfied: mypy-extensions>=0.3.0 in /usr/local/lib/python3.10/dist-packages (from typing-inspect<1,>=0.4.0->dataclasses-json<0.7,>=0.5.7->langchain-community) (1.0.0)\n",
            "Requirement already satisfied: propcache>=0.2.0 in /usr/local/lib/python3.10/dist-packages (from yarl<2.0,>=1.12.0->aiohttp<4.0.0,>=3.8.3->langchain-community) (0.2.0)\n",
            "Requirement already satisfied: exceptiongroup in /usr/local/lib/python3.10/dist-packages (from anyio->httpx<1,>=0.23.0->langsmith<0.2.0,>=0.1.125->langchain-community) (1.2.2)\n"
          ]
        }
      ]
    },
    {
      "cell_type": "code",
      "execution_count": 9,
      "metadata": {
        "id": "I1LUTjYh_NvP"
      },
      "outputs": [],
      "source": [
        "from langchain.embeddings.huggingface import HuggingFaceBgeEmbeddings"
      ]
    },
    {
      "cell_type": "code",
      "execution_count": 25,
      "metadata": {
        "id": "WiBr3L2E9JMh"
      },
      "outputs": [],
      "source": [
        "os.environ['GOOGLE_API_KEY'] = ''"
      ]
    },
    {
      "cell_type": "code",
      "execution_count": 32,
      "metadata": {
        "id": "yz2x9zol9fix"
      },
      "outputs": [],
      "source": [
        "from llama_index.llms import Gemini\n",
        "llm = Gemini(model=\"models/gemini-ultra\")"
      ]
    },
    {
      "cell_type": "code",
      "execution_count": 33,
      "metadata": {
        "id": "GLdm3XwL_RmY"
      },
      "outputs": [],
      "source": [
        "embed_model = HuggingFaceBgeEmbeddings(model_name=\"BAAI/bge-base-en\")"
      ]
    },
    {
      "cell_type": "code",
      "execution_count": 34,
      "metadata": {
        "id": "VQKKqd3d9fgZ"
      },
      "outputs": [],
      "source": [
        "# creating Chunks\n",
        "service_context = ServiceContext.from_defaults(llm = llm, embed_model=embed_model, chunk_size = 800, chunk_overlap=20)"
      ]
    },
    {
      "cell_type": "code",
      "execution_count": 35,
      "metadata": {
        "id": "JDcjlbu1-ity"
      },
      "outputs": [],
      "source": [
        "# Convert to vector format\n",
        "index = VectorStoreIndex.from_documents(documents, service_context= service_context)"
      ]
    },
    {
      "cell_type": "markdown",
      "metadata": {
        "id": "ctjpkZp7AAOh"
      },
      "source": [
        "## Storing and Loading the Index"
      ]
    },
    {
      "cell_type": "code",
      "execution_count": 36,
      "metadata": {
        "id": "ylWymjiv_7sa"
      },
      "outputs": [],
      "source": [
        "index.storage_context.persist() # Check storage folder"
      ]
    },
    {
      "cell_type": "code",
      "execution_count": null,
      "metadata": {
        "id": "XPQ3253aAGih"
      },
      "outputs": [],
      "source": [
        "# Loading the index\n",
        "# storage_context = StorageContext.from_defaults(persist_dir = './storage')\n",
        "# index = load_index_from_storage(storage_context=storage_context)"
      ]
    },
    {
      "cell_type": "markdown",
      "metadata": {
        "id": "ZI2kDnDNAfpI"
      },
      "source": [
        "## Q/A"
      ]
    },
    {
      "cell_type": "code",
      "execution_count": 37,
      "metadata": {
        "id": "Ql4wicxIAa0J"
      },
      "outputs": [],
      "source": [
        "query_engine = index.as_query_engine()"
      ]
    },
    {
      "cell_type": "code",
      "execution_count": 39,
      "metadata": {
        "colab": {
          "base_uri": "https://localhost:8080/",
          "height": 885
        },
        "id": "hUEBbTA-AayB",
        "outputId": "0ab5a418-08d7-4f61-cd35-01cb959d773f"
      },
      "outputs": [
        {
          "output_type": "execute_result",
          "data": {
            "text/plain": [
              "Response(response='Transformer is a static electrical machine which transforms electrical power from one circuit to another circuit, without changing the frequency.', source_nodes=[NodeWithScore(node=TextNode(id_='8fb40f9e-f7ce-4b32-a7a6-cc968dd9c6a6', embedding=None, metadata={'page_label': '1', 'file_name': 'transformer.pdf', 'file_path': 'data/transformer.pdf', 'file_type': 'application/pdf', 'file_size': 779655, 'creation_date': '2024-11-07', 'last_modified_date': '2024-11-07', 'last_accessed_date': '2024-11-07'}, excluded_embed_metadata_keys=['file_name', 'file_type', 'file_size', 'creation_date', 'last_modified_date', 'last_accessed_date'], excluded_llm_metadata_keys=['file_name', 'file_type', 'file_size', 'creation_date', 'last_modified_date', 'last_accessed_date'], relationships={<NodeRelationship.SOURCE: '1'>: RelatedNodeInfo(node_id='5681431b-2d0a-4304-a7e4-c7160b1de261', node_type=<ObjectType.DOCUMENT: '4'>, metadata={'page_label': '1', 'file_name': 'transformer.pdf', 'file_path': 'data/transformer.pdf', 'file_type': 'application/pdf', 'file_size': 779655, 'creation_date': '2024-11-07', 'last_modified_date': '2024-11-07', 'last_accessed_date': '2024-11-07'}, hash='c58c0fe52232e4b0692594b976556da3229d26babd263c24f5b4846acd2c3ac5'), <NodeRelationship.NEXT: '3'>: RelatedNodeInfo(node_id='95edcc59-1250-4a0d-a767-1b104f81fe0e', node_type=<ObjectType.TEXT: '1'>, metadata={}, hash='9d05e7c83bf10106bebd6c5cafa769f290c30b51922f1d752b353dba89b01e85')}, text=\"Transformer  \\nelectrical transformer is a static electrical machine which transforms electrical power from one circuit to \\nanother circuit, without changing the frequency. Transformer can increase or decrease the voltage with \\ncorresponding decrease or increase in current. \\nWorking principle of transformer \\n \\n The basic principle behind working of a transformer is the phenomenon of mutual induction between two \\nwindings linked by common magnetic flux. The figure at right shows the simplest form of a transformer. \\nBasically a transformer consists of two inductive coils; primary winding and secondary winding. The coils are \\nelectrically separated but magnetically linked to each other. When, primary winding is connected to a source of \\nalternating voltage, alternating magnetic flux is produced around the winding. The core provides magnetic path \\nfor the flux, to get linked with the secondary winding. Most of the flux gets linked with the secondary winding \\nwhich is called as 'useful flux' or main 'flux', and the flux which does not get linked with secondary winding is \\ncalled as 'leakage flux'.  As the flux produced is alternating (the direction of it is continuously changing), EMF \\ngets induced in the secondary winding according to Faraday's law of electromagnetic induction. This emf is \\ncalled 'mutually induced emf', and the frequency of mutually induced emf is same as that of supplied emf. If the \\nsecondary winding is closed circuit, then mutually induced current flows through it, and hence the electrical \\nenergy is transferred from one circuit (primary) to another circuit (secondary). \\n \\nBasic construction of transformer \\nBasically a transformer consists of two inductive windings and a laminated steel core. The coils are insulated \\nfrom each other as well as from the steel core. A transformer may also consist of a container for winding and \\ncore assembly (called as tank), suitable bushings to take our the terminals, oil conservator to provide oil in the \\ntransformer tank for cooling purposes etc. The figure at left illustrates the basic construction of a transformer. \\n In all types of transformers, core is constructed by assembling (stacking) laminated sheets of steel, with \\nminimum air-gap between them (to achieve continuous magnetic path). The steel used is having high silicon \\ncontent and sometimes heat treated, to provide high permeability and low hysteresis loss. Laminated sheets of \\nsteel are used to reduce eddy current loss. The sheets are cut in the shape as E,I and L. To avoid high reluctance\", start_char_idx=0, end_char_idx=2547, text_template='{metadata_str}\\n\\n{content}', metadata_template='{key}: {value}', metadata_seperator='\\n'), score=0.8843348300278363), NodeWithScore(node=TextNode(id_='f2d9c174-8e81-4cea-ad26-958d651d8095', embedding=None, metadata={'page_label': '9', 'file_name': 'transformer.pdf', 'file_path': 'data/transformer.pdf', 'file_type': 'application/pdf', 'file_size': 779655, 'creation_date': '2024-11-07', 'last_modified_date': '2024-11-07', 'last_accessed_date': '2024-11-07'}, excluded_embed_metadata_keys=['file_name', 'file_type', 'file_size', 'creation_date', 'last_modified_date', 'last_accessed_date'], excluded_llm_metadata_keys=['file_name', 'file_type', 'file_size', 'creation_date', 'last_modified_date', 'last_accessed_date'], relationships={<NodeRelationship.SOURCE: '1'>: RelatedNodeInfo(node_id='13f05865-5be2-4901-8e72-96b1d3353b06', node_type=<ObjectType.DOCUMENT: '4'>, metadata={'page_label': '9', 'file_name': 'transformer.pdf', 'file_path': 'data/transformer.pdf', 'file_type': 'application/pdf', 'file_size': 779655, 'creation_date': '2024-11-07', 'last_modified_date': '2024-11-07', 'last_accessed_date': '2024-11-07'}, hash='3528ec4270e0e3dbe0916c59db3c08fcd9600e0ba8e95443fbbfd13eae864f69'), <NodeRelationship.PREVIOUS: '2'>: RelatedNodeInfo(node_id='925d2936-fb70-4a83-933b-22a647806ecc', node_type=<ObjectType.TEXT: '1'>, metadata={'page_label': '8', 'file_name': 'transformer.pdf', 'file_path': 'data/transformer.pdf', 'file_type': 'application/pdf', 'file_size': 779655, 'creation_date': '2024-11-07', 'last_modified_date': '2024-11-07', 'last_accessed_date': '2024-11-07'}, hash='526919d36ecf33b10a6427252dc1f54dc506a77bac1dbfbc88520c4ed316edf5'), <NodeRelationship.NEXT: '3'>: RelatedNodeInfo(node_id='b4d75825-2b01-4276-9c0c-e8ec7bf2166d', node_type=<ObjectType.TEXT: '1'>, metadata={}, hash='9e07441eb1165235a07313012646e7dbf44c826532234bed98edecc2aee2daae')}, text='For an ideal transformer on no load, E1 = V1 and E2 = V2 . \\nwhere, V1 = supply voltage of primary winding \\n            V2 = terminal voltage of secondary winding \\nVoltage Transformation Ratio (K) \\nAs derived above, \\n \\nWhere, K = constant \\nThis constant K is known as voltage transformation ratio. \\n \\n▪ If N2 > N1, i.e. K > 1, then the transformer is called step-up transformer. \\n▪ If N2 < N1, i.e. K < 1, then the transformer is called step-down transformer. \\n▪  \\nEquivalent circuit of Transformer \\n \\nn a practical transformer - \\n(a) Some leakage flux is present at both primary and secondary sides. This leakage gives rise to leakage \\nreactances at both sides, which are denoted as X1 and X2 respectively. \\n(b) Both the primary and secondary winding possesses resistance, denoted as R1 and R2 respectively. These \\nresistances causes voltage drop as, I1R1 and I2R2 and also copper loss I12R1 and I22R2. \\n(c) Permeability of the core can not be infinite, hence some magnetizing current is needed. Mutual flux also \\ncauses core loss in iron parts of the transformer. \\nEquivalent circuit of transformer \\n \\nResistances and reactances of transformer, which are described above, can be imagined separately from the \\nwindings (as shown in the figure below). Hence, the function of windings, thereafter, will only be the \\ntransforming the voltage. \\n \\nThe no load current I0 is divided into, pure inductance X0 (taking magnetizing components Iμ) and non \\ninduction resistance R0 (taking working component Iw) which are connected into parallel across the primary.', start_char_idx=0, end_char_idx=1553, text_template='{metadata_str}\\n\\n{content}', metadata_template='{key}: {value}', metadata_seperator='\\n'), score=0.8502373992717653)], metadata={'8fb40f9e-f7ce-4b32-a7a6-cc968dd9c6a6': {'page_label': '1', 'file_name': 'transformer.pdf', 'file_path': 'data/transformer.pdf', 'file_type': 'application/pdf', 'file_size': 779655, 'creation_date': '2024-11-07', 'last_modified_date': '2024-11-07', 'last_accessed_date': '2024-11-07'}, 'f2d9c174-8e81-4cea-ad26-958d651d8095': {'page_label': '9', 'file_name': 'transformer.pdf', 'file_path': 'data/transformer.pdf', 'file_type': 'application/pdf', 'file_size': 779655, 'creation_date': '2024-11-07', 'last_modified_date': '2024-11-07', 'last_accessed_date': '2024-11-07'}})"
            ]
          },
          "metadata": {},
          "execution_count": 39
        }
      ],
      "source": [
        "response = query_engine.query(\"What is transformer?\")\n",
        "response"
      ]
    },
    {
      "cell_type": "code",
      "execution_count": 40,
      "metadata": {
        "id": "JqQZlIzoA7QS"
      },
      "outputs": [],
      "source": [
        "from IPython.display import Markdown, display"
      ]
    },
    {
      "cell_type": "code",
      "execution_count": 41,
      "metadata": {
        "colab": {
          "base_uri": "https://localhost:8080/",
          "height": 46
        },
        "id": "rfYaAU0sBEUK",
        "outputId": "8d998344-0116-4474-f3fa-5b5f8d88a988"
      },
      "outputs": [
        {
          "output_type": "display_data",
          "data": {
            "text/plain": [
              "<IPython.core.display.Markdown object>"
            ],
            "text/markdown": "<b>Transformer is a static electrical machine which transforms electrical power from one circuit to another circuit, without changing the frequency.</b>"
          },
          "metadata": {}
        }
      ],
      "source": [
        "display(Markdown(f\"<b>{response}</b>\"))"
      ]
    },
    {
      "cell_type": "code",
      "execution_count": null,
      "metadata": {
        "id": "E89gUt9vBHwK"
      },
      "outputs": [],
      "source": []
    }
  ],
  "metadata": {
    "accelerator": "GPU",
    "colab": {
      "gpuType": "T4",
      "provenance": []
    },
    "kernelspec": {
      "display_name": "Python 3",
      "name": "python3"
    },
    "language_info": {
      "name": "python"
    }
  },
  "nbformat": 4,
  "nbformat_minor": 0
}